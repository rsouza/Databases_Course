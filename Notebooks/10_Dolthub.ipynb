{
 "cells": [
  {
   "cell_type": "markdown",
   "metadata": {},
   "source": [
    "## Introduction to Databases\n",
    "\n",
    "### Using [DoltHub](https://www.dolthub.com/)\n",
    "\n",
    "[Tutorial](https://www.dolthub.com/docs/tutorials/dolthub/)  \n",
    "[Python Reference](https://www.dolthub.com/docs/reference/python/)"
   ]
  },
  {
   "cell_type": "code",
   "execution_count": 6,
   "metadata": {},
   "outputs": [
    {
     "name": "stdout",
     "output_type": "stream",
     "text": [
      "Requirement already satisfied: doltcli in /home/rsouza/environments/default_env/lib/python3.8/site-packages (0.1.15)\n",
      "Requirement already satisfied: doltpy in /home/rsouza/environments/default_env/lib/python3.8/site-packages (2.0.9)\n",
      "Requirement already satisfied: decorator==4.4.2 in /home/rsouza/environments/default_env/lib/python3.8/site-packages (from doltpy) (4.4.2)\n",
      "Requirement already satisfied: pytz==2020.1 in /home/rsouza/environments/default_env/lib/python3.8/site-packages (from doltpy) (2020.1)\n",
      "Requirement already satisfied: more-itertools<9.0.0,>=8.6.0 in /home/rsouza/environments/default_env/lib/python3.8/site-packages (from doltpy) (8.10.0)\n",
      "Requirement already satisfied: psutil==5.7.2 in /home/rsouza/environments/default_env/lib/python3.8/site-packages (from doltpy) (5.7.2)\n",
      "Requirement already satisfied: numpy==1.19.0 in /home/rsouza/environments/default_env/lib/python3.8/site-packages (from doltpy) (1.19.0)\n",
      "Requirement already satisfied: packaging==20.4 in /home/rsouza/environments/default_env/lib/python3.8/site-packages (from doltpy) (20.4)\n",
      "Requirement already satisfied: attrs==19.3.0 in /home/rsouza/environments/default_env/lib/python3.8/site-packages (from doltpy) (19.3.0)\n",
      "Requirement already satisfied: python-dateutil==2.8.1 in /home/rsouza/environments/default_env/lib/python3.8/site-packages (from doltpy) (2.8.1)\n",
      "Requirement already satisfied: wcwidth==0.2.5 in /home/rsouza/environments/default_env/lib/python3.8/site-packages (from doltpy) (0.2.5)\n",
      "Requirement already satisfied: protobuf==3.12.2 in /home/rsouza/environments/default_env/lib/python3.8/site-packages (from doltpy) (3.12.2)\n",
      "Requirement already satisfied: retry==0.9.2 in /home/rsouza/environments/default_env/lib/python3.8/site-packages (from doltpy) (0.9.2)\n",
      "Requirement already satisfied: SQLAlchemy==1.3.18 in /home/rsouza/environments/default_env/lib/python3.8/site-packages (from doltpy) (1.3.18)\n",
      "Requirement already satisfied: pyparsing==2.4.7 in /home/rsouza/environments/default_env/lib/python3.8/site-packages (from doltpy) (2.4.7)\n",
      "Requirement already satisfied: mysql-connector-python<9.0.0,>=8.0.20 in /home/rsouza/environments/default_env/lib/python3.8/site-packages (from doltpy) (8.0.21)\n",
      "Requirement already satisfied: pluggy==0.13.1 in /home/rsouza/environments/default_env/lib/python3.8/site-packages (from doltpy) (0.13.1)\n",
      "Requirement already satisfied: six==1.15.0 in /home/rsouza/environments/default_env/lib/python3.8/site-packages (from doltpy) (1.15.0)\n",
      "Requirement already satisfied: pandas>=1.0.5 in /home/rsouza/environments/default_env/lib/python3.8/site-packages (from doltpy) (1.3.4)\n",
      "Requirement already satisfied: setuptools in /home/rsouza/environments/default_env/lib/python3.8/site-packages (from protobuf==3.12.2->doltpy) (57.0.0)\n",
      "Requirement already satisfied: py<2.0.0,>=1.4.26 in /home/rsouza/environments/default_env/lib/python3.8/site-packages (from retry==0.9.2->doltpy) (1.10.0)\n"
     ]
    }
   ],
   "source": [
    "!pip install -U doltcli doltpy"
   ]
  },
  {
   "cell_type": "code",
   "execution_count": 2,
   "metadata": {},
   "outputs": [
    {
     "ename": "ModuleNotFoundError",
     "evalue": "No module named 'doltpy.core'",
     "output_type": "error",
     "traceback": [
      "\u001b[0;31m---------------------------------------------------------------------------\u001b[0m",
      "\u001b[0;31mModuleNotFoundError\u001b[0m                       Traceback (most recent call last)",
      "\u001b[0;32m/tmp/ipykernel_1092875/122803734.py\u001b[0m in \u001b[0;36m<module>\u001b[0;34m\u001b[0m\n\u001b[0;32m----> 1\u001b[0;31m \u001b[0;32mfrom\u001b[0m \u001b[0mdoltpy\u001b[0m\u001b[0;34m.\u001b[0m\u001b[0mcore\u001b[0m \u001b[0;32mimport\u001b[0m \u001b[0mDolt\u001b[0m\u001b[0;34m\u001b[0m\u001b[0;34m\u001b[0m\u001b[0m\n\u001b[0m\u001b[1;32m      2\u001b[0m \u001b[0;32mfrom\u001b[0m \u001b[0mdoltpy\u001b[0m\u001b[0;34m.\u001b[0m\u001b[0mcore\u001b[0m\u001b[0;34m.\u001b[0m\u001b[0mwrite\u001b[0m \u001b[0;32mimport\u001b[0m \u001b[0mbulk_import\u001b[0m\u001b[0;34m\u001b[0m\u001b[0;34m\u001b[0m\u001b[0m\n",
      "\u001b[0;31mModuleNotFoundError\u001b[0m: No module named 'doltpy.core'"
     ]
    }
   ],
   "source": [
    "from doltpy.core import Dolt\n",
    "from doltpy.core.write import bulk_import"
   ]
  },
  {
   "cell_type": "code",
   "execution_count": null,
   "metadata": {},
   "outputs": [],
   "source": [
    "import requests\n",
    "import json\n",
    "import time\n",
    "import pandas as pd\n",
    "from doltpy.core import Dolt\n",
    "from doltpy.core.read import read_table, pandas_read_sql"
   ]
  },
  {
   "cell_type": "markdown",
   "metadata": {},
   "source": [
    "### [Installing Dolt Locally](https://www.dolthub.com/docs/tutorials/installation/)\n",
    "\n",
    "    sudo bash -c 'curl -L https://github.com/dolthub/dolt/releases/latest/download/install.sh | sudo bash'\n",
    "    \n",
    "### [Installing DoltPy](https://www.dolthub.com/docs/tutorials/installation/#doltpy)\n",
    "\n",
    "    pip install doltpy\n",
    "    \n",
    "### [Signining Up](https://www.dolthub.com/signin)"
   ]
  },
  {
   "cell_type": "markdown",
   "metadata": {},
   "source": [
    "#### [Data Acquisition](https://www.dolthub.com/docs/tutorials/dolthub/#data-acquisition)\n",
    "\n",
    "There are several ways to explore data on DoltHub\n",
    "\n",
    "+ Navigate to the database [home page](https://www.dolthub.com/repositories/dolthub/corona-virus) and use the SQL Console  \n",
    "+ Use the [Dolt CLI](https://www.dolthub.com/docs/tutorials/dolthub/#data-acquisition_dolt-cli)  \n",
    "+ Using Dolthub via [API](https://www.dolthub.com/docs/tutorials/dolthub/#api-alpha) with requests"
   ]
  },
  {
   "cell_type": "code",
   "execution_count": 2,
   "metadata": {},
   "outputs": [],
   "source": [
    "api_root = 'https://dolthub.com/api/v1alpha1/{}/{}'"
   ]
  },
  {
   "cell_type": "markdown",
   "metadata": {},
   "source": [
    "Using [corona-virus](https://www.dolthub.com/repositories/dolthub/corona-virus) table"
   ]
  },
  {
   "cell_type": "code",
   "execution_count": 3,
   "metadata": {},
   "outputs": [],
   "source": [
    "owner = 'dolthub'\n",
    "repo = 'corona-virus'\n",
    "branch = 'master'"
   ]
  },
  {
   "cell_type": "code",
   "execution_count": 4,
   "metadata": {},
   "outputs": [],
   "source": [
    "res = requests.get(api_root.format(owner, repo))"
   ]
  },
  {
   "cell_type": "code",
   "execution_count": 5,
   "metadata": {},
   "outputs": [
    {
     "name": "stdout",
     "output_type": "stream",
     "text": [
      "query_execution_status\n",
      "query_execution_message\n",
      "repository_owner\n",
      "repository_name\n",
      "commit_ref\n",
      "sql_query\n",
      "schema\n",
      "rows\n"
     ]
    }
   ],
   "source": [
    "for key in res.json().keys():\n",
    "    print(key)"
   ]
  },
  {
   "cell_type": "code",
   "execution_count": 6,
   "metadata": {},
   "outputs": [
    {
     "data": {
      "text/plain": [
       "{'query_execution_status': 'Success',\n",
       " 'query_execution_message': '',\n",
       " 'repository_owner': 'dolthub',\n",
       " 'repository_name': 'corona-virus',\n",
       " 'commit_ref': 'master',\n",
       " 'sql_query': 'SHOW TABLES;',\n",
       " 'schema': [{'columnName': 'Table',\n",
       "   'columnType': 'String',\n",
       "   'isPrimaryKey': False}],\n",
       " 'rows': [{'Table': 'case_details'},\n",
       "  {'Table': 'cases'},\n",
       "  {'Table': 'cases_by_age_range'},\n",
       "  {'Table': 'cases_by_age_sex'},\n",
       "  {'Table': 'cases_by_sex'},\n",
       "  {'Table': 'characteristics_age'},\n",
       "  {'Table': 'characteristics_case_severity'},\n",
       "  {'Table': 'characteristics_comorbid_condition'},\n",
       "  {'Table': 'characteristics_occupation'},\n",
       "  {'Table': 'characteristics_onset_date_range'},\n",
       "  {'Table': 'characteristics_province'},\n",
       "  {'Table': 'characteristics_sex'},\n",
       "  {'Table': 'characteristics_wuhan_exposed'},\n",
       "  {'Table': 'current'},\n",
       "  {'Table': 'current_cases'},\n",
       "  {'Table': 'current_deaths'},\n",
       "  {'Table': 'current_recovered'},\n",
       "  {'Table': 'deaths_by_age_range'},\n",
       "  {'Table': 'deaths_by_age_sex'},\n",
       "  {'Table': 'deaths_by_sex'},\n",
       "  {'Table': 'mortality_rate_by_age_range'},\n",
       "  {'Table': 'mortality_rate_by_age_sex'},\n",
       "  {'Table': 'mortality_rate_by_sex'},\n",
       "  {'Table': 'mortality_rates'},\n",
       "  {'Table': 'places'},\n",
       "  {'Table': 'time_series'}]}"
      ]
     },
     "execution_count": 6,
     "metadata": {},
     "output_type": "execute_result"
    }
   ],
   "source": [
    "res.json()"
   ]
  },
  {
   "cell_type": "code",
   "execution_count": 7,
   "metadata": {},
   "outputs": [],
   "source": [
    "query = '''\n",
    "SELECT cases.confirmed_count, cases.death_count, places.country_region  \n",
    "FROM cases\n",
    "INNER JOIN places\n",
    "ON places.place_id = cases.place_id\n",
    "WHERE places.place_id = 98\n",
    "LIMIT 100\n",
    "'''\n",
    "\n",
    "res = requests.get('https://www.dolthub.com/api/v1alpha1/{}/{}/{}'.format(owner, repo, branch), params={'q': query})"
   ]
  },
  {
   "cell_type": "code",
   "execution_count": 8,
   "metadata": {},
   "outputs": [],
   "source": [
    "#res.json()"
   ]
  },
  {
   "cell_type": "code",
   "execution_count": 9,
   "metadata": {},
   "outputs": [
    {
     "data": {
      "text/html": [
       "<div>\n",
       "<style scoped>\n",
       "    .dataframe tbody tr th:only-of-type {\n",
       "        vertical-align: middle;\n",
       "    }\n",
       "\n",
       "    .dataframe tbody tr th {\n",
       "        vertical-align: top;\n",
       "    }\n",
       "\n",
       "    .dataframe thead th {\n",
       "        text-align: right;\n",
       "    }\n",
       "</style>\n",
       "<table border=\"1\" class=\"dataframe\">\n",
       "  <thead>\n",
       "    <tr style=\"text-align: right;\">\n",
       "      <th></th>\n",
       "      <th>confirmed_count</th>\n",
       "      <th>death_count</th>\n",
       "      <th>country_region</th>\n",
       "    </tr>\n",
       "  </thead>\n",
       "  <tbody>\n",
       "    <tr>\n",
       "      <th>0</th>\n",
       "      <td>0</td>\n",
       "      <td>0</td>\n",
       "      <td>Brazil</td>\n",
       "    </tr>\n",
       "    <tr>\n",
       "      <th>1</th>\n",
       "      <td>1</td>\n",
       "      <td>null</td>\n",
       "      <td>Brazil</td>\n",
       "    </tr>\n",
       "    <tr>\n",
       "      <th>2</th>\n",
       "      <td>2</td>\n",
       "      <td>null</td>\n",
       "      <td>Brazil</td>\n",
       "    </tr>\n",
       "    <tr>\n",
       "      <th>3</th>\n",
       "      <td>4</td>\n",
       "      <td>null</td>\n",
       "      <td>Brazil</td>\n",
       "    </tr>\n",
       "    <tr>\n",
       "      <th>4</th>\n",
       "      <td>13</td>\n",
       "      <td>null</td>\n",
       "      <td>Brazil</td>\n",
       "    </tr>\n",
       "    <tr>\n",
       "      <th>5</th>\n",
       "      <td>20</td>\n",
       "      <td>null</td>\n",
       "      <td>Brazil</td>\n",
       "    </tr>\n",
       "    <tr>\n",
       "      <th>6</th>\n",
       "      <td>25</td>\n",
       "      <td>null</td>\n",
       "      <td>Brazil</td>\n",
       "    </tr>\n",
       "    <tr>\n",
       "      <th>7</th>\n",
       "      <td>31</td>\n",
       "      <td>null</td>\n",
       "      <td>Brazil</td>\n",
       "    </tr>\n",
       "    <tr>\n",
       "      <th>8</th>\n",
       "      <td>38</td>\n",
       "      <td>null</td>\n",
       "      <td>Brazil</td>\n",
       "    </tr>\n",
       "    <tr>\n",
       "      <th>9</th>\n",
       "      <td>52</td>\n",
       "      <td>null</td>\n",
       "      <td>Brazil</td>\n",
       "    </tr>\n",
       "  </tbody>\n",
       "</table>\n",
       "</div>"
      ],
      "text/plain": [
       "  confirmed_count death_count country_region\n",
       "0               0           0         Brazil\n",
       "1               1        null         Brazil\n",
       "2               2        null         Brazil\n",
       "3               4        null         Brazil\n",
       "4              13        null         Brazil\n",
       "5              20        null         Brazil\n",
       "6              25        null         Brazil\n",
       "7              31        null         Brazil\n",
       "8              38        null         Brazil\n",
       "9              52        null         Brazil"
      ]
     },
     "execution_count": 9,
     "metadata": {},
     "output_type": "execute_result"
    }
   ],
   "source": [
    "df = pd.DataFrame(res.json()['rows'])\n",
    "df.head(10)"
   ]
  },
  {
   "cell_type": "code",
   "execution_count": 10,
   "metadata": {},
   "outputs": [],
   "source": [
    "query = '''\n",
    "select * from time_series where country_region = \"Brazil\"\n",
    "'''\n",
    "res = requests.get('https://www.dolthub.com/api/v1alpha1/{}/{}/{}'.format(owner, repo, branch), params={'q': query})"
   ]
  },
  {
   "cell_type": "code",
   "execution_count": 11,
   "metadata": {},
   "outputs": [
    {
     "data": {
      "text/html": [
       "<div>\n",
       "<style scoped>\n",
       "    .dataframe tbody tr th:only-of-type {\n",
       "        vertical-align: middle;\n",
       "    }\n",
       "\n",
       "    .dataframe tbody tr th {\n",
       "        vertical-align: top;\n",
       "    }\n",
       "\n",
       "    .dataframe thead th {\n",
       "        text-align: right;\n",
       "    }\n",
       "</style>\n",
       "<table border=\"1\" class=\"dataframe\">\n",
       "  <thead>\n",
       "    <tr style=\"text-align: right;\">\n",
       "      <th></th>\n",
       "      <th>country_region</th>\n",
       "      <th>province_state</th>\n",
       "      <th>observation_time</th>\n",
       "      <th>confirmed_count</th>\n",
       "      <th>death_count</th>\n",
       "      <th>recovered_count</th>\n",
       "    </tr>\n",
       "  </thead>\n",
       "  <tbody>\n",
       "    <tr>\n",
       "      <th>0</th>\n",
       "      <td>Brazil</td>\n",
       "      <td></td>\n",
       "      <td>Wed, 22 Jan 2020 00:00:00 GMT</td>\n",
       "      <td>0</td>\n",
       "      <td>0</td>\n",
       "      <td>0</td>\n",
       "    </tr>\n",
       "    <tr>\n",
       "      <th>1</th>\n",
       "      <td>Brazil</td>\n",
       "      <td></td>\n",
       "      <td>Wed, 26 Feb 2020 00:00:00 GMT</td>\n",
       "      <td>1</td>\n",
       "      <td>null</td>\n",
       "      <td>null</td>\n",
       "    </tr>\n",
       "    <tr>\n",
       "      <th>2</th>\n",
       "      <td>Brazil</td>\n",
       "      <td></td>\n",
       "      <td>Sat, 29 Feb 2020 00:00:00 GMT</td>\n",
       "      <td>2</td>\n",
       "      <td>null</td>\n",
       "      <td>null</td>\n",
       "    </tr>\n",
       "    <tr>\n",
       "      <th>3</th>\n",
       "      <td>Brazil</td>\n",
       "      <td></td>\n",
       "      <td>Wed, 04 Mar 2020 00:00:00 GMT</td>\n",
       "      <td>4</td>\n",
       "      <td>null</td>\n",
       "      <td>null</td>\n",
       "    </tr>\n",
       "    <tr>\n",
       "      <th>4</th>\n",
       "      <td>Brazil</td>\n",
       "      <td></td>\n",
       "      <td>Fri, 06 Mar 2020 00:00:00 GMT</td>\n",
       "      <td>13</td>\n",
       "      <td>null</td>\n",
       "      <td>null</td>\n",
       "    </tr>\n",
       "    <tr>\n",
       "      <th>5</th>\n",
       "      <td>Brazil</td>\n",
       "      <td></td>\n",
       "      <td>Sun, 08 Mar 2020 00:00:00 GMT</td>\n",
       "      <td>20</td>\n",
       "      <td>null</td>\n",
       "      <td>null</td>\n",
       "    </tr>\n",
       "    <tr>\n",
       "      <th>6</th>\n",
       "      <td>Brazil</td>\n",
       "      <td></td>\n",
       "      <td>Mon, 09 Mar 2020 00:00:00 GMT</td>\n",
       "      <td>25</td>\n",
       "      <td>null</td>\n",
       "      <td>null</td>\n",
       "    </tr>\n",
       "    <tr>\n",
       "      <th>7</th>\n",
       "      <td>Brazil</td>\n",
       "      <td></td>\n",
       "      <td>Tue, 10 Mar 2020 00:00:00 GMT</td>\n",
       "      <td>31</td>\n",
       "      <td>null</td>\n",
       "      <td>null</td>\n",
       "    </tr>\n",
       "    <tr>\n",
       "      <th>8</th>\n",
       "      <td>Brazil</td>\n",
       "      <td></td>\n",
       "      <td>Wed, 11 Mar 2020 00:00:00 GMT</td>\n",
       "      <td>38</td>\n",
       "      <td>null</td>\n",
       "      <td>null</td>\n",
       "    </tr>\n",
       "    <tr>\n",
       "      <th>9</th>\n",
       "      <td>Brazil</td>\n",
       "      <td></td>\n",
       "      <td>Thu, 12 Mar 2020 00:00:00 GMT</td>\n",
       "      <td>52</td>\n",
       "      <td>null</td>\n",
       "      <td>null</td>\n",
       "    </tr>\n",
       "  </tbody>\n",
       "</table>\n",
       "</div>"
      ],
      "text/plain": [
       "  country_region province_state               observation_time  \\\n",
       "0         Brazil                 Wed, 22 Jan 2020 00:00:00 GMT   \n",
       "1         Brazil                 Wed, 26 Feb 2020 00:00:00 GMT   \n",
       "2         Brazil                 Sat, 29 Feb 2020 00:00:00 GMT   \n",
       "3         Brazil                 Wed, 04 Mar 2020 00:00:00 GMT   \n",
       "4         Brazil                 Fri, 06 Mar 2020 00:00:00 GMT   \n",
       "5         Brazil                 Sun, 08 Mar 2020 00:00:00 GMT   \n",
       "6         Brazil                 Mon, 09 Mar 2020 00:00:00 GMT   \n",
       "7         Brazil                 Tue, 10 Mar 2020 00:00:00 GMT   \n",
       "8         Brazil                 Wed, 11 Mar 2020 00:00:00 GMT   \n",
       "9         Brazil                 Thu, 12 Mar 2020 00:00:00 GMT   \n",
       "\n",
       "  confirmed_count death_count recovered_count  \n",
       "0               0           0               0  \n",
       "1               1        null            null  \n",
       "2               2        null            null  \n",
       "3               4        null            null  \n",
       "4              13        null            null  \n",
       "5              20        null            null  \n",
       "6              25        null            null  \n",
       "7              31        null            null  \n",
       "8              38        null            null  \n",
       "9              52        null            null  "
      ]
     },
     "execution_count": 11,
     "metadata": {},
     "output_type": "execute_result"
    }
   ],
   "source": [
    "#res.json()\n",
    "df = pd.DataFrame(res.json()['rows'])\n",
    "df.head(10)"
   ]
  },
  {
   "cell_type": "markdown",
   "metadata": {},
   "source": [
    "### [Cloning Data Locally with Dolt CLI inside Jupyter](https://deepnote.com/project/cacec925-c951-4d1e-bbf5-eaeaa9b1e8fc#%2Fdolt-demo.ipynb)"
   ]
  },
  {
   "cell_type": "code",
   "execution_count": 12,
   "metadata": {},
   "outputs": [
    {
     "name": "stdout",
     "output_type": "stream",
     "text": [
      "cloning https://doltremoteapi.dolthub.com/dolthub/nba-players\n",
      "Retrieving remote informatio0 of 2,772 chunks complete. 0 chunks being downloaded currentl0 of 2,772 chunks complete. 4 chunks being downloaded currentl4 of 2,772 chunks complete. 0 chunks being downloaded currentl4 of 2,772 chunks complete. 4 chunks being downloaded currentl8 of 2,772 chunks complete. 0 chunks being downloaded currentl8 of 2,772 chunks complete. 4 chunks being downloaded currentl12 of 2,772 chunks complete. 0 chunks being downloaded currently12 of 2,772 chunks complete. 3 chunks being downloaded currently15 of 2,772 chunks complete. 0 chunks being downloaded currently15 of 2,772 chunks complete. 4 chunks being downloaded currently19 of 2,772 chunks complete. 0 chunks being downloaded currently19 of 2,772 chunks complete. 3 chunks being downloaded currently22 of 2,772 chunks complete. 0 chunks being downloaded currently22 of 2,772 chunks complete. 3 chunks being downloaded currently25 of 2,772 chunks complete. 0 chunks being downloaded currently25 of 2,772 chunks complete. 1 chunks being downloaded currently26 of 2,772 chunks complete. 0 chunks being downloaded currently26 of 2,772 chunks complete. 39 chunks being downloaded currentl26 of 2,772 chunks complete. 44 chunks being downloaded currentl31 of 2,772 chunks complete. 39 chunks being downloaded currentl31 of 2,772 chunks complete. 120 chunks being downloaded currently31 of 2,772 chunks complete. 124 chunks being downloaded currently35 of 2,772 chunks complete. 120 chunks being downloaded currently35 of 2,772 chunks complete. 123 chunks being downloaded currently38 of 2,772 chunks complete. 120 chunks being downloaded currently77 of 2,772 chunks complete. 81 chunks being downloaded currentl77 of 2,772 chunks complete. 85 chunks being downloaded currentl81 of 2,772 chunks complete. 81 chunks being downloaded currentl81 of 2,772 chunks complete. 82 chunks being downloaded currentl162 of 2,772 chunks complete. 1 chunks being downloaded currentl163 of 2,772 chunks complete. 0 chunks being downloaded currentl163 of 2,772 chunks complete. 4 chunks being downloaded currentl167 of 2,772 chunks complete. 0 chunks being downloaded currentl167 of 2,772 chunks complete. 2 chunks being downloaded currentl169 of 2,772 chunks complete. 0 chunks being downloaded currentl169 of 2,772 chunks complete. 9 chunks being downloaded currentl178 of 2,772 chunks complete. 0 chunks being downloaded currentl178 of 2,772 chunks complete. 7 chunks being downloaded currentl185 of 2,772 chunks complete. 0 chunks being downloaded currentl185 of 2,772 chunks complete. 2 chunks being downloaded currentl187 of 2,772 chunks complete. 0 chunks being downloaded currentl187 of 2,772 chunks complete. 4 chunks being downloaded currentl191 of 2,772 chunks complete. 0 chunks being downloaded currentl191 of 2,772 chunks complete. 4 chunks being downloaded currentl195 of 2,772 chunks complete. 0 chunks being downloaded currentl195 of 2,772 chunks complete. 6 chunks being downloaded currentl201 of 2,772 chunks complete. 0 chunks being downloaded currentl201 of 2,772 chunks complete. 6 chunks being downloaded currentl207 of 2,772 chunks complete. 0 chunks being downloaded currentl207 of 2,772 chunks complete. 3 chunks being downloaded currentl210 of 2,772 chunks complete. 0 chunks being downloaded currentl210 of 2,772 chunks complete. 4 chunks being downloaded currentl214 of 2,772 chunks complete. 0 chunks being downloaded currentl214 of 2,772 chunks complete. 1,973 chunks being downloaded currentl214 of 2,772 chunks complete. 1,977 chunks being downloaded currentl218 of 2,772 chunks complete. 1,973 chunks being downloaded currentl218 of 2,772 chunks complete. 2,400 chunks being downloaded currentl218 of 2,772 chunks complete. 2,401 chunks being downloaded currentl219 of 2,772 chunks complete. 2,400 chunks being downloaded currentl219 of 2,772 chunks complete. 2,511 chunks being downloaded currentl330 of 2,772 chunks complete. 2,400 chunks being downloaded currentl330 of 2,772 chunks complete. 2,403 chunks being downloaded currentl333 of 2,772 chunks complete. 2,400 chunks being downloaded currentl333 of 2,772 chunks complete. 2,403 chunks being downloaded currentl336 of 2,772 chunks complete. 2,400 chunks being downloaded currentl336 of 2,772 chunks complete. 2,403 chunks being downloaded currentl339 of 2,772 chunks complete. 2,400 chunks being downloaded currentl339 of 2,772 chunks complete. 2,405 chunks being downloaded currentl344 of 2,772 chunks complete. 2,400 chunks being downloaded currentl344 of 2,772 chunks complete. 2,404 chunks being downloaded currentl348 of 2,772 chunks complete. 2,400 chunks being downloaded currentl348 of 2,772 chunks complete. 2,409 chunks being downloaded currentl357 of 2,772 chunks complete. 2,400 chunks being downloaded currentl357 of 2,772 chunks complete. 2,403 chunks being downloaded currentl360 of 2,772 chunks complete. 2,400 chunks being downloaded currentl360 of 2,772 chunks complete. 2,404 chunks being downloaded currentl364 of 2,772 chunks complete. 2,400 chunks being downloaded currentl364 of 2,772 chunks complete. 2,405 chunks being downloaded currentl369 of 2,772 chunks complete. 2,400 chunks being downloaded currentl369 of 2,772 chunks complete. 2,403 chunks being downloaded currentl372 of 2,772 chunks complete. 2,400 chunks being downloaded currentl799 of 2,772 chunks complete. 1,973 chunks being downloaded currentl2,772 of 2,772 chunks complete. 0 chunks being downloaded currently.\n"
     ]
    }
   ],
   "source": [
    "!rm -rf nba-players/\n",
    "!dolt clone dolthub/nba-players"
   ]
  },
  {
   "cell_type": "code",
   "execution_count": 13,
   "metadata": {},
   "outputs": [
    {
     "name": "stderr",
     "output_type": "stream",
     "text": [
      "11-10 13:18:52 doltpy.core.dolt INFO     Creating engine for Dolt SQL Server instance running on 127.0.0.1:3306\n",
      "11-10 13:18:52 doltpy.core.dolt INFO     \n"
     ]
    },
    {
     "name": "stdout",
     "output_type": "stream",
     "text": [
      "   id       full_name first_name last_name  is_active\n",
      "0   2     Byron Scott      Byron     Scott          0\n",
      "1   3      Grant Long      Grant      Long          0\n",
      "2   7     Dan Schayes        Dan   Schayes          0\n",
      "3   9  Sedale Threatt     Sedale   Threatt          0\n",
      "4  12      Chris King      Chris      King          0\n"
     ]
    }
   ],
   "source": [
    "# Instantiate a Dolt repository object using your cloned repository\n",
    "repo = Dolt('nba-players')\n",
    "\n",
    "# Read a table into a dataframe\n",
    "players_df = read_table(repo, 'players')\n",
    "\n",
    "print(players_df.head())"
   ]
  },
  {
   "cell_type": "code",
   "execution_count": 14,
   "metadata": {},
   "outputs": [
    {
     "data": {
      "text/plain": [
       "pandas.core.frame.DataFrame"
      ]
     },
     "execution_count": 14,
     "metadata": {},
     "output_type": "execute_result"
    }
   ],
   "source": [
    "type(players_df)"
   ]
  },
  {
   "cell_type": "code",
   "execution_count": 15,
   "metadata": {},
   "outputs": [
    {
     "name": "stdout",
     "output_type": "stream",
     "text": [
      "    id       full_name first_name last_name  is_active\n",
      "0  893  Michael Jordan    Michael    Jordan          0\n"
     ]
    }
   ],
   "source": [
    "# Run SQL using Doltpy\n",
    "\n",
    "# Start a MySQL compatible server\n",
    "repo.sql_server()\n",
    "\n",
    "# Give the server a bit of time to start up\n",
    "time.sleep(3)\n",
    "\n",
    "# Define a SQL query\n",
    "query = '''\n",
    "  SELECT *\n",
    "  FROM players\n",
    "  WHERE full_name = 'Michael Jordan'\n",
    "'''\n",
    "\n",
    "# Retrieve a dataframe using the query \n",
    "# and the MySQL connnector that ships with Doltpy\n",
    "df = pandas_read_sql(query, repo.get_engine())\n",
    "\n",
    "print(df.head())\n",
    "\n",
    "# Stop the SQL Server when we're done\n",
    "repo.sql_server_stop()"
   ]
  },
  {
   "cell_type": "code",
   "execution_count": 16,
   "metadata": {},
   "outputs": [
    {
     "name": "stdout",
     "output_type": "stream",
     "text": [
      "[{'id': '893', 'full_name': 'Michael Jordan', 'first_name': 'Michael', 'last_name': 'Jordan', 'is_active': '0'}]\n"
     ]
    }
   ],
   "source": [
    "# You can also use the DoltHub SQL API, as previously\n",
    "\n",
    "owner, reponame = 'dolthub', 'nba-players'\n",
    "\n",
    "# Every repository on DoltHub has an API that accepts SQL queries and returns JSON\n",
    "# The limit on query time is 20 seconds so don't get crazy\n",
    "api_root = 'https://www.dolthub.com/api/v1alpha1/{}/{}'\n",
    "res = requests.get(api_root.format(owner, reponame), params={'q': query})\n",
    "\n",
    "goat_json = res.json()\n",
    "\n",
    "print(goat_json.get('rows'))"
   ]
  },
  {
   "cell_type": "code",
   "execution_count": 17,
   "metadata": {},
   "outputs": [
    {
     "data": {
      "text/html": [
       "<div>\n",
       "<style scoped>\n",
       "    .dataframe tbody tr th:only-of-type {\n",
       "        vertical-align: middle;\n",
       "    }\n",
       "\n",
       "    .dataframe tbody tr th {\n",
       "        vertical-align: top;\n",
       "    }\n",
       "\n",
       "    .dataframe thead th {\n",
       "        text-align: right;\n",
       "    }\n",
       "</style>\n",
       "<table border=\"1\" class=\"dataframe\">\n",
       "  <thead>\n",
       "    <tr style=\"text-align: right;\">\n",
       "      <th></th>\n",
       "      <th>id</th>\n",
       "      <th>full_name</th>\n",
       "      <th>first_name</th>\n",
       "      <th>last_name</th>\n",
       "      <th>is_active</th>\n",
       "    </tr>\n",
       "  </thead>\n",
       "  <tbody>\n",
       "    <tr>\n",
       "      <th>0</th>\n",
       "      <td>893</td>\n",
       "      <td>Michael Jordan</td>\n",
       "      <td>Michael</td>\n",
       "      <td>Jordan</td>\n",
       "      <td>0</td>\n",
       "    </tr>\n",
       "  </tbody>\n",
       "</table>\n",
       "</div>"
      ],
      "text/plain": [
       "    id       full_name first_name last_name is_active\n",
       "0  893  Michael Jordan    Michael    Jordan         0"
      ]
     },
     "execution_count": 17,
     "metadata": {},
     "output_type": "execute_result"
    }
   ],
   "source": [
    "df = pd.DataFrame(goat_json['rows'])\n",
    "df.head(10)"
   ]
  },
  {
   "cell_type": "markdown",
   "metadata": {},
   "source": [
    "#### That's all good but you can also modify the data without fear\n",
    "\n",
    "#### Using the Dolt CLI..."
   ]
  },
  {
   "cell_type": "code",
   "execution_count": 23,
   "metadata": {},
   "outputs": [],
   "source": [
    "# Put the repo back to starting state\n",
    "!cd nba-players && dolt reset --hard"
   ]
  },
  {
   "cell_type": "code",
   "execution_count": 24,
   "metadata": {},
   "outputs": [
    {
     "name": "stdout",
     "output_type": "stream",
     "text": [
      "\u001b[1mdiff --dolt a/players b/players\n",
      "\u001b[0m\u001b[1m--- a/players @ d996j2u7hf4qfm6ja9hjbes80tgaarb9\n",
      "\u001b[0m\u001b[1m+++ b/players @ o9njlk9l3cp45pbn7vgk6unutcsvomfs\n",
      "\u001b[0m  CREATE TABLE players (\n",
      "    `id` BIGINT NOT NULL\n",
      "    `full_name` LONGTEXT\n",
      "    `first_name` LONGTEXT\n",
      "    `last_name` LONGTEXT\n",
      "    `is_active` TINYINT\n",
      "\u001b[32m+   `goat_debate` TINYINT\u001b[0m\n",
      "     PRIMARY KEY (id)\n",
      "  );\n",
      "\n",
      "+-----+----+-----------+------------+-----------+-----------+-------------+\n",
      "| \u001b[31m < \u001b[0m | id | full_name | first_name | last_name | is_active |             |\n",
      "| \u001b[32m > \u001b[0m | id | full_name | first_name | last_name | is_active | goat_debate |\n",
      "+-----+----+-----------+------------+-----------+-----------+-------------+\n",
      "+-----+----+-----------+------------+-----------+-----------+-------------+\n"
     ]
    }
   ],
   "source": [
    "# Run a aquery against a repo\n",
    "!cd nba-players && dolt sql -q \"alter table players add column goat_debate tinyint\"\n",
    "!cd nba-players && dolt diff"
   ]
  },
  {
   "cell_type": "code",
   "execution_count": 25,
   "metadata": {},
   "outputs": [
    {
     "name": "stderr",
     "output_type": "stream",
     "text": [
      "11-10 13:20:21 doltpy.core.dolt WARNING  Must provide a value for result_format to get output back\n",
      "11-10 13:20:21 doltpy.core.dolt INFO     Query OK, 2 rows affected\n",
      "Rows matched: 2  Changed: 2  Warnings: 0\n",
      "\n"
     ]
    }
   ],
   "source": [
    "# Or modify it using Doltpy...\n",
    "goats_update = '''\n",
    "  update players\n",
    "  set goat_debate=1\n",
    "  where full_name = 'Michael Jordan' \n",
    "  OR full_name = 'LeBron James'\n",
    "'''\n",
    "\n",
    "repo.sql(goats_update)"
   ]
  },
  {
   "cell_type": "code",
   "execution_count": 26,
   "metadata": {},
   "outputs": [
    {
     "name": "stdout",
     "output_type": "stream",
     "text": [
      "     id       full_name first_name last_name  is_active  goat_debate\n",
      "0  2544    LeBron James     LeBron     James          1            1\n",
      "1   893  Michael Jordan    Michael    Jordan          0            1\n"
     ]
    }
   ],
   "source": [
    "repo.sql_server()\n",
    "time.sleep(3)\n",
    "\n",
    "goats_df = pandas_read_sql(\"select * from players where goat_debate=1\", repo.get_engine())\n",
    "\n",
    "print(goats_df)\n",
    "\n",
    "repo.sql_server_stop()"
   ]
  },
  {
   "cell_type": "code",
   "execution_count": null,
   "metadata": {},
   "outputs": [],
   "source": []
  }
 ],
 "metadata": {
  "kernelspec": {
   "display_name": "Python 3 (ipykernel)",
   "language": "python",
   "name": "python3"
  },
  "language_info": {
   "codemirror_mode": {
    "name": "ipython",
    "version": 3
   },
   "file_extension": ".py",
   "mimetype": "text/x-python",
   "name": "python",
   "nbconvert_exporter": "python",
   "pygments_lexer": "ipython3",
   "version": "3.8.10"
  }
 },
 "nbformat": 4,
 "nbformat_minor": 4
}
